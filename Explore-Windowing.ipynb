{
 "cells": [
  {
   "cell_type": "code",
   "metadata": {},
   "outputs": [],
   "source": [
    "import numpy as np\n",
    "import matplotlib.pyplot as plt\n",
    "import matplotlib \n",
    "plt.ion()\n",
    "import segyio\n",
    "import random"
   ]
  },
  {
   "cell_type": "code",
   "metadata": {},
   "outputs": [],
   "source": [
    "filename = 'f3.segy'"
   ]
  },
  {
   "cell_type": "code",
   "metadata": {},
   "outputs": [],
   "source": [
    "with segyio.open(filename) as f:\n",
    "    \n",
    "    f.mmap()\n",
    "    \n",
    "    x = segyio.tools.collect(f.trace[:])"
   ]
  },
  {
   "cell_type": "code",
   "metadata": {},
   "outputs": [],
   "source": [
    "x.shape"
   ]
  },
  {
   "cell_type": "code",
   "metadata": {},
   "outputs": [],
   "source": [
    "trace = x[30000,:]\n",
    "trace /= np.max(np.abs(trace))\n",
    "plt.plot(trace)\n",
    "print(len(trace))"
   ]
  },
  {
   "cell_type": "code",
   "metadata": {},
   "outputs": [],
   "source": [
    "sp = np.abs(np.fft.fft(trace))\n",
    "sp /= np.max(sp)"
   ]
  },
  {
   "cell_type": "code",
   "metadata": {},
   "outputs": [],
   "source": [
    "half_trace_left = trace[:len(trace)//2]\n",
    "half_trace_right = trace[len(trace)//2:]\n",
    "ax1 = plt.subplot(1,2,1)\n",
    "plt.plot(half_trace_left)\n",
    "ax2 = plt.subplot(1,2,2, sharey=ax1)\n",
    "plt.plot(half_trace_right)\n",
    "plt.setp(ax2.get_yticklabels(), visible=False)\n",
    "plt.show()\n",
    "print(len(half_trace_left))"
   ]
  },
  {
   "cell_type": "code",
   "metadata": {},
   "outputs": [],
   "source": [
    "sp_left_half = np.abs(np.fft.fft(half_trace_left))\n",
    "sp_left_half /= np.max(sp_left_half)\n",
    "sp_right_half = np.abs(np.fft.fft(half_trace_right))\n",
    "sp_right_half /= np.max(sp_right_half)"
   ]
  },
  {
   "cell_type": "code",
   "metadata": {},
   "outputs": [],
   "source": [
    "time_step = .004\n",
    "freqs = np.fft.fftfreq(sp.size, d=time_step)\n",
    "idx = np.argsort(freqs)\n",
    "freqs_left_half = np.fft.fftfreq(sp_left_half.size, d=time_step)\n",
    "idx_left_half = np.argsort(freqs_left_half)\n",
    "freqs_right_half = np.fft.fftfreq(sp_right_half.size, d=time_step)\n",
    "idx_right_half = np.argsort(freqs_right_half)"
   ]
  },
  {
   "cell_type": "code",
   "metadata": {},
   "outputs": [],
   "source": [
    "plt.figure(figsize=(20,10))\n",
    "plt.subplot(311)\n",
    "plt.plot(freqs[idx][::2], sp[idx][::2], label=\"True Amplitude Spectrum Downsampled\")\n",
    "plt.plot(freqs_left_half[idx_left_half], (sp_left_half[idx_left_half]), label=\"Reconstruction Left\")\n",
    "plt.legend()\n",
    "plt.subplot(312)\n",
    "plt.plot(freqs[idx][::2], sp[idx][::2], label=\"True Amplitude Spectrum Downsampled\")\n",
    "plt.plot(freqs_right_half[idx_right_half], (sp_right_half[idx_right_half]), label=\"Reconstruction Right\")\n",
    "plt.legend()\n",
    "plt.subplot(313)\n",
    "plt.plot(freqs_left_half[idx_left_half], (sp_left_half[idx_left_half]), label=\"Reconstruction Left\")\n",
    "plt.plot(freqs_right_half[idx_right_half], (sp_right_half[idx_right_half]), label=\"Reconstruction Right\")\n",
    "#plt.plot(freqs[idx], sp[idx], label=\"True Amplitude Spectrum\", alpha=.3)\n",
    "plt.legend()"
   ]
  },
  {
   "cell_type": "code",
   "metadata": {},
   "outputs": [],
   "source": [
    "plt.figure(figsize=(20,10))\n",
    "plt.phase_spectrum(trace, label=\"Full Trace\")\n",
    "plt.phase_spectrum(half_trace_left, label=\"Left Half\")\n",
    "plt.phase_spectrum(half_trace_right, label=\"Right Half\")\n",
    "plt.legend()\n",
    "plt.show()"
   ]
  },
  {
   "cell_type": "code",
   "metadata": {},
   "outputs": [],
   "source": [
    "plt.plot(freqs[idx][::2], np.abs((sp_right[idx_right]+sp_left[idx_left])-sp[idx][::2]))"
   ]
  },
  {
   "cell_type": "code",
   "metadata": {},
   "outputs": [],
   "source": [
    "def tapedat(insi):\n",
    "    taper = np.hanning(40)\n",
    "    return np.concatenate((taper[:20],np.repeat(1,len(insi)-40),taper[20:]))"
   ]
  },
  {
   "cell_type": "code",
   "metadata": {},
   "outputs": [],
   "source": [
    "half_trace_left = trace[:len(trace)//4]\n",
    "half_trace_midl = trace[len(trace)//4:len(trace)//2-1]\n",
    "half_trace_midr = trace[len(trace)//2:3*len(trace)//4]\n",
    "half_trace_right = trace[3*len(trace)//4:-1]\n",
    "\n",
    "taper = np.hanning(20)\n",
    "\n",
    "hann_half_trace_left = np.multiply(half_trace_left,tapedat(half_trace_left))\n",
    "hann_half_trace_midl = np.multiply(half_trace_midl,tapedat(half_trace_midl))\n",
    "hann_half_trace_midr = np.multiply(half_trace_midr,tapedat(half_trace_midr))\n",
    "hann_half_trace_right = np.multiply(half_trace_right,tapedat(half_trace_right))\n",
    "\n",
    "\n",
    "\n",
    "plt.figure(figsize=(20,10))\n",
    "ax1 = plt.subplot(1,4,1)\n",
    "plt.plot(half_trace_left)\n",
    "plt.plot(hann_half_trace_left)\n",
    "ax2 = plt.subplot(1,4,2, sharey=ax1)\n",
    "plt.plot(half_trace_midl)\n",
    "plt.plot(hann_half_trace_midl)\n",
    "plt.setp(ax2.get_yticklabels(), visible=False)\n",
    "\n",
    "ax3 = plt.subplot(1,4,3, sharey=ax1)\n",
    "plt.plot(half_trace_midr)\n",
    "plt.plot(hann_half_trace_midr)\n",
    "plt.setp(ax3.get_yticklabels(), visible=False)\n",
    "\n",
    "ax4 = plt.subplot(1,4,4, sharey=ax1)\n",
    "plt.plot(half_trace_right)\n",
    "plt.plot(hann_half_trace_right)\n",
    "plt.setp(ax4.get_yticklabels(), visible=False)\n",
    "plt.show()"
   ]
  },
  {
   "cell_type": "code",
   "metadata": {},
   "outputs": [],
   "source": [
    "def freq_out(trace_in):\n",
    "    time_step = .004\n",
    "    sp = np.abs(np.fft.fft(trace_in))\n",
    "    sp_norm = sp / np.max(sp)\n",
    "    freqs = np.fft.fftfreq(sp.size, d=time_step)\n",
    "    idx = np.argsort(freqs)\n",
    "    return (sp, sp_norm, freqs, idx)"
   ]
  },
  {
   "cell_type": "code",
   "metadata": {},
   "outputs": [],
   "source": [
    "(sp_left_true, sp_left, freqs_left, idx_left) = freq_out(half_trace_left)\n",
    "(sp_midl_true, sp_midl, freqs_midl, idx_midl) = freq_out(half_trace_midl)\n",
    "(sp_midr_true, sp_midr, freqs_midr, idx_midr) = freq_out(half_trace_midr)\n",
    "(sp_right_true, sp_right, freqs_right, idx_right) = freq_out(half_trace_right)"
   ]
  },
  {
   "cell_type": "code",
   "metadata": {},
   "outputs": [],
   "source": [
    "(hann_sp_left_true, hann_sp_left, hann_freqs_left, hann_idx_left) = freq_out(hann_half_trace_left)\n",
    "(hann_sp_midl_true, hann_sp_midl, hann_freqs_midl, hann_idx_midl) = freq_out(hann_half_trace_midl)\n",
    "(hann_sp_midr_true, hann_sp_midr, hann_freqs_midr, hann_idx_midr) = freq_out(hann_half_trace_midr)\n",
    "(hann_sp_right_true, hann_sp_right, hann_freqs_right, hann_idx_right) = freq_out(hann_half_trace_right)"
   ]
  },
  {
   "cell_type": "code",
   "metadata": {},
   "outputs": [],
   "source": [
    "plt.figure(figsize=(20,10))\n",
    "plt.plot(freqs[idx], sp[idx], label=\"True Amplitude Spectrum\", alpha=.3)\n",
    "plt.plot(freqs_left[idx_left], (sp_left[idx_left]+sp_midl[idx_midl]+sp_midr[idx_midr]+sp_right[idx_right]), label=\"Reconstruction\")\n",
    "plt.plot(freqs[idx][::4], sp[idx][::4], label=\"True Amplitude Spectrum Downsampled\")\n",
    "plt.legend()\n"
   ]
  },
  {
   "cell_type": "code",
   "metadata": {},
   "outputs": [],
   "source": [
    "start = 3*len(trace)//4\n",
    "half_trace_short = trace[start:start+101]\n",
    "half_trace_mid = trace[start:start+256]\n",
    "half_trace_left = trace[len(trace)//4:len(trace)//2-1]\n",
    "half_trace_right = trace[len(trace)//2:3*len(trace)//4]"
   ]
  },
  {
   "cell_type": "code",
   "metadata": {},
   "outputs": [],
   "source": [
    "hann_half_trace_left = np.multiply(half_trace_left,tapedat(half_trace_left))\n",
    "hann_half_trace_right = np.multiply(half_trace_right,tapedat(half_trace_right))\n",
    "hann_half_trace_short = np.multiply(half_trace_short,tapedat(half_trace_short))\n",
    "hann_half_trace_mid = np.multiply(half_trace_mid,tapedat(half_trace_mid))"
   ]
  },
  {
   "cell_type": "code",
   "metadata": {},
   "outputs": [],
   "source": [
    "(sp_left_true, sp_left, freqs_left, idx_left) = freq_out(half_trace_left)\n",
    "(sp_right_true, sp_right, freqs_right, idx_right) = freq_out(half_trace_right)"
   ]
  },
  {
   "cell_type": "code",
   "metadata": {},
   "outputs": [],
   "source": [
    "(hann_sp_left_true, hann_sp_left, hann_freqs_left, hann_idx_left) = freq_out(hann_half_trace_left)\n",
    "(hann_sp_right_true, hann_sp_right, hann_freqs_right, hann_idx_right) = freq_out(hann_half_trace_right)"
   ]
  },
  {
   "cell_type": "code",
   "metadata": {},
   "outputs": [],
   "source": [
    "(hann_sp_short_true, hann_sp_short, hann_freqs_short, hann_idx_short) = freq_out(hann_half_trace_short)\n",
    "(hann_sp_mid_true, hann_sp_mid, hann_freqs_mid, hann_idx_mid) = freq_out(hann_half_trace_mid)"
   ]
  },
  {
   "cell_type": "code",
   "metadata": {},
   "outputs": [],
   "source": [
    "spec, freq, _ = plt.phase_spectrum(half_trace_left, label=\"Phase\")\n",
    "hann_spec, hann_freq, _ = plt.phase_spectrum(hann_half_trace_left, label=\"Phase Hanning\")\n",
    "\n",
    "spec_total = spec\n",
    "hann_spec_total = hann_spec\n",
    "frex_total = freq\n",
    "hann_frex_total = hann_freq\n",
    "\n",
    "spec, freq, _ = plt.phase_spectrum(half_trace_right)\n",
    "hann_spec, hann_freq, _ = plt.phase_spectrum(hann_half_trace_right)\n",
    "\n",
    "spec_total += spec\n",
    "hann_spec_total += hann_spec\n",
    "\n"
   ]
  },
  {
   "cell_type": "code",
   "metadata": {},
   "outputs": [],
   "source": [
    "def cutout(seq,val):\n",
    "        \"\"\"\n",
    "        Remove element at `idx` from `seq`.\n",
    "        TODO: error checks.\n",
    "        \"\"\"\n",
    "        mid = len(seq)//2\n",
    "        return seq[mid-val//2:mid+val//2]"
   ]
  },
  {
   "cell_type": "code",
   "metadata": {},
   "outputs": [],
   "source": [
    "matplotlib.rcParams.update({'font.size': 20})\n",
    "plt.figure(figsize=(20, 10), tight_layout=True)\n",
    "\n",
    "ax12 = plt.subplot2grid((1, 5), (0, 1), colspan=3)\n",
    "ax12.plot(freqs_left[idx_left], (sp_left[idx_left]), label=\"Reconstruction\")\n",
    "ax12.plot(hann_freqs_left[hann_idx_left], (hann_sp_left[hann_idx_left]), label=\"Reconstruction Tapered\")\n",
    "ax12.plot(freqs[idx], sp[idx], label=\"Full Amplitude Spectrum\", alpha=.2)\n",
    "ax12.set_title(\"Normalized Amplitude Spectra\")\n",
    "ax12.legend()\n",
    "\n",
    "\n",
    "ax1 = plt.subplot2grid((1, 5), (0, 0))\n",
    "ax1.plot(half_trace_left,-np.arange(len(half_trace_left)), label=\"Trace\")\n",
    "ax1.plot(hann_half_trace_left,-np.arange(len(hann_half_trace_left)), label=\"Hanning Tapered\")\n",
    "ax1.plot(np.repeat(0,len(half_trace_left)),-np.arange(len(half_trace_left)))\n",
    "ax1.plot(np.repeat(np.mean(half_trace_left),len(half_trace_left)),-np.arange(len(half_trace_left)), 'k')\n",
    "ax1.set_title(\"Normalized Seismic Trace\")\n",
    "ax1.set_ylabel(\"Top Half\")\n",
    "ax1.legend()\n",
    "plt.setp(ax1.get_yticklabels(), visible=False)\n",
    "plt.setp(ax1.get_xticklabels(), visible=False)\n",
    "\n",
    "ax61 = plt.subplot2grid((1, 5), (0, 4))\n",
    "ax61.set_title(\"Phase Spectra\")\n",
    "ax61.phase_spectrum(half_trace_left, label=\"Phase\")\n",
    "ax61.phase_spectrum(hann_half_trace_left, label=\"Hanning Tapered\")\n",
    "ax61.legend()\n",
    "ax61.set_xlabel(\"\")\n",
    "\n",
    "plt.savefig(\"spectral0.png\")\n",
    "\n",
    "plt.show()\n",
    "\n",
    "\n",
    "plt.figure(figsize=(20, 10), tight_layout=True)\n",
    "\n",
    "ax81 = plt.subplot2grid((1, 5), (0, 0))\n",
    "\n",
    "ax81.plot(cutout(hann_freqs_short[hann_idx_short],20), cutout(hann_sp_short[hann_idx_short],20), label=\"Reconstruction 101 samples\")\n",
    "ax81.plot(cutout(hann_freqs_mid[hann_idx_mid],20), cutout(hann_sp_mid[hann_idx_mid],20), label=\"Reconstruction 256 samples\")\n",
    "ax81.plot(cutout(freqs[idx],80), cutout(sp[idx],80), label=\"True Amplitude Spectrum\", alpha=.2)\n",
    "ax81.set_title(\"Focus on 0 Hz\")\n",
    "\n",
    "\n",
    "ax71 = plt.subplot2grid((1, 5), (0, 1), colspan=3)\n",
    "ax71.plot(hann_freqs_short[hann_idx_short], (hann_sp_short[hann_idx_short]), label=\"Reconstruction 101 samples\")\n",
    "ax71.plot(hann_freqs_mid[hann_idx_mid], (hann_sp_mid[hann_idx_mid]), label=\"Reconstruction 256 samples\")\n",
    "ax71.plot(freqs[idx], sp[idx], label=\"True Amplitude Spectrum\", alpha=.2)\n",
    "ax71.set_ylabel(\"Trace Length Variations\")\n",
    "ax71.set_title(\"Normalized Amplitude Spectra\")\n",
    "ax71.legend()\n",
    "\n",
    "ax74 = plt.subplot2grid((1, 5), (0, 4), sharey=ax61)\n",
    "ax74.phase_spectrum(half_trace_short, label=\"Phase 101 samples\")\n",
    "ax74.phase_spectrum(half_trace_mid, label=\"Phase 256 samples\")\n",
    "ax74.phase_spectrum(trace, label=\"True Phase Spectrum\", alpha=.2)\n",
    "ax74.set_title(\"Phase Spectra\")\n",
    "\n",
    "\n",
    "plt.savefig(\"spectral1.png\")\n",
    "\n",
    "plt.show()"
   ]
  },
  {
   "cell_type": "code",
   "metadata": {},
   "outputs": [],
   "source": [
    "spec, freq, _ = plt.phase_spectrum(half_trace_left, label=\"Phase\")\n",
    "hann_spec, hann_freq, _ = plt.phase_spectrum(hann_half_trace_left, label=\"Phase Hanning\")\n",
    "\n",
    "spec_total = spec\n",
    "hann_spec_total = hann_spec\n",
    "frex_total = freq\n",
    "hann_frex_total = hann_freq\n",
    "\n",
    "spec, freq, _ = plt.phase_spectrum(half_trace_midl)\n",
    "hann_spec, hann_freq, _ = plt.phase_spectrum(hann_half_trace_midl)\n",
    "\n",
    "spec_total += spec\n",
    "hann_spec_total += hann_spec\n",
    "\n",
    "spec, freq, _ = plt.phase_spectrum(half_trace_midr)\n",
    "hann_spec, hann_freq, _ = plt.phase_spectrum(hann_half_trace_midr)\n",
    "\n",
    "spec_total += spec\n",
    "hann_spec_total += hann_spec\n",
    "\n",
    "spec, freq, _ = plt.phase_spectrum(half_trace_right)\n",
    "hann_spec, hann_freq, _ = plt.phase_spectrum(hann_half_trace_right)\n",
    "\n",
    "spec_total += spec\n",
    "hann_spec_total += hann_spec\n",
    "\n"
   ]
  },
  {
   "cell_type": "code",
   "metadata": {},
   "outputs": [],
   "source": [
    "plt.figure(figsize=(20, 20), tight_layout=True)\n",
    "\n",
    "ax12 = plt.subplot2grid((5, 5), (0, 1), colspan=3)\n",
    "ax12.plot(freqs_left[idx_left], (sp_left[idx_left]), label=\"Reconstruction Top\")\n",
    "ax12.plot(hann_freqs_left[hann_idx_left], (hann_sp_left[hann_idx_left]), label=\"Reconstruction Top Hanning\")\n",
    "ax12.plot(freqs[idx], sp[idx], label=\"Full Amplitude Spectrum\", alpha=.2)\n",
    "ax12.set_title(\"Normalized Amplitude Spectra\")\n",
    "ax12.legend()\n",
    "plt.setp(ax12.get_xticklabels(), visible=False)\n",
    "ax13 = plt.subplot2grid((5, 5), (1, 1), colspan=3)\n",
    "ax13.plot(freqs_midl[idx_midl], (sp_midl[idx_midl]), label=\"Reconstruction Mid-Top\")\n",
    "ax13.plot(hann_freqs_midl[hann_idx_midl], (hann_sp_midl[hann_idx_midl]), label=\"Reconstruction Mid-Top Hanning\")\n",
    "ax13.plot(freqs[idx], sp[idx], label=\"Full Amplitude Spectrum\", alpha=.2)\n",
    "ax13.legend()\n",
    "plt.setp(ax13.get_xticklabels(), visible=False)\n",
    "ax14 = plt.subplot2grid((5, 5), (2, 1), colspan=3)\n",
    "ax14.plot(freqs_midr[idx_midr], (sp_midr[idx_midr]), label=\"Reconstruction Mid-Bottom\")\n",
    "ax14.plot(hann_freqs_midr[hann_idx_midr], (hann_sp_midr[hann_idx_midr]), label=\"Reconstruction Mid-Bottom Hanning\")\n",
    "ax14.plot(freqs[idx], sp[idx], label=\"Full Amplitude Spectrum\", alpha=.2)\n",
    "ax14.legend()\n",
    "plt.setp(ax14.get_xticklabels(), visible=False)\n",
    "ax15 = plt.subplot2grid((5, 5), (3, 1), colspan=3)\n",
    "ax15.plot(freqs_right[idx_right], (sp_right[idx_right]), label=\"Reconstruction Bottom\")\n",
    "ax15.plot(hann_freqs_right[hann_idx_right], (hann_sp_right[hann_idx_right]), label=\"Reconstruction Bottom Hanning\")\n",
    "ax15.plot(freqs[idx], sp[idx], label=\"Full Amplitude Spectrum\", alpha=.2)\n",
    "ax15.legend()\n",
    "\n",
    "\n",
    "ax1 = plt.subplot2grid((5, 5), (0, 0))\n",
    "ax1.plot(half_trace_left,-np.arange(len(half_trace_left)), label=\"Trace\")\n",
    "ax1.plot(hann_half_trace_left,-np.arange(len(hann_half_trace_left)), label=\"Trace Hanning\")\n",
    "ax1.plot(np.repeat(0,len(half_trace_left)),-np.arange(len(half_trace_left)))\n",
    "ax1.plot(np.repeat(np.mean(half_trace_left),len(half_trace_left)),-np.arange(len(half_trace_left)), 'k')\n",
    "ax1.set_title(\"Normalized Seismic Trace\")\n",
    "ax1.set_ylabel(\"Top Quarter\")\n",
    "ax1.legend()\n",
    "ax2 = plt.subplot2grid((5, 5), (1, 0), sharex=ax1)\n",
    "ax2.plot(half_trace_midl,-np.arange(len(half_trace_midl)))\n",
    "ax2.plot(hann_half_trace_midl,-np.arange(len(hann_half_trace_midl)))\n",
    "ax2.plot(np.repeat(np.mean(half_trace_midr),len(half_trace_midr)),-np.arange(len(half_trace_midr)), 'k')\n",
    "ax2.set_ylabel(\"Mid-Top Quarter\")\n",
    "plt.setp(ax1.get_yticklabels(), visible=False)\n",
    "plt.setp(ax1.get_xticklabels(), visible=False)\n",
    "plt.setp(ax2.get_yticklabels(), visible=False)\n",
    "plt.setp(ax2.get_xticklabels(), visible=False)\n",
    "\n",
    "ax3 = plt.subplot2grid((5, 5), (2, 0), sharex=ax1)\n",
    "ax3.plot(half_trace_midr,-np.arange(len(half_trace_midl)))\n",
    "ax3.plot(hann_half_trace_midr,-np.arange(len(hann_half_trace_midl)))\n",
    "ax3.plot(np.repeat(np.mean(half_trace_midr),len(half_trace_midr)),-np.arange(len(half_trace_midr)), 'k')\n",
    "ax3.set_ylabel(\"Mid-Bottom Quarter\")\n",
    "plt.setp(ax3.get_yticklabels(), visible=False)\n",
    "plt.setp(ax3.get_xticklabels(), visible=False)\n",
    "\n",
    "ax4 = plt.subplot2grid((5, 5), (3, 0), sharex=ax1)\n",
    "ax4.plot(half_trace_right,-np.arange(len(half_trace_right)))\n",
    "ax4.plot(hann_half_trace_right,-np.arange(len(hann_half_trace_right)))\n",
    "ax4.plot(np.repeat(np.mean(half_trace_right),len(half_trace_right)),-np.arange(len(half_trace_right)), 'k')\n",
    "ax4.set_ylabel(\"Bottom Quarter\")\n",
    "plt.setp(ax4.get_yticklabels(), visible=False)\n",
    "\n",
    "ax61 = plt.subplot2grid((5, 5), (0, 4))\n",
    "ax61.set_title(\"Phase Spectra\")\n",
    "ax61.phase_spectrum(half_trace_left, label=\"Phase\")\n",
    "ax61.phase_spectrum(hann_half_trace_left, label=\"Phase Hanning\")\n",
    "ax61.legend()\n",
    "ax61.set_xlabel(\"\")\n",
    "plt.setp(ax61.get_xticklabels(), visible=False)\n",
    "ax62 = plt.subplot2grid((5, 5), (1, 4), sharey=ax61)\n",
    "ax62.phase_spectrum(half_trace_midl)\n",
    "ax62.phase_spectrum(hann_half_trace_midl)\n",
    "ax62.set_xlabel(\"\")\n",
    "plt.setp(ax62.get_xticklabels(), visible=False)\n",
    "ax63 = plt.subplot2grid((5, 5), (2, 4), sharey=ax61)\n",
    "ax63.phase_spectrum(half_trace_midr)\n",
    "ax63.phase_spectrum(hann_half_trace_midr)\n",
    "ax63.set_xlabel(\"\")\n",
    "plt.setp(ax63.get_xticklabels(), visible=False)\n",
    "ax64 = plt.subplot2grid((5, 5), (3, 4), sharey=ax61)\n",
    "ax64.phase_spectrum(half_trace_right)\n",
    "ax64.phase_spectrum(hann_half_trace_right)\n",
    "\n",
    "sp_rec = sp_left_true[idx_left]+sp_midl_true[idx_midl]+sp_midr_true[idx_midr]+sp_right_true[idx_right]\n",
    "sp_rec /= np.max(sp_rec)\n",
    "hann_sp_rec = hann_sp_left_true[hann_idx_left]+hann_sp_midl_true[hann_idx_midl]+hann_sp_midr_true[hann_idx_midr]+hann_sp_right_true[hann_idx_right]\n",
    "hann_sp_rec /= np.max(hann_sp_rec)\n",
    "\n",
    "ax71 = plt.subplot2grid((5, 5), (4, 1), colspan=3)\n",
    "plt.plot(freqs_left[idx_left], sp_rec, label=\"Reconstruction\")\n",
    "ax71.plot(hann_freqs_right[hann_idx_right], hann_sp_rec, label=\"Reconstruction Hanning\")\n",
    "ax71.plot(freqs[idx], sp[idx], label=\"True Amplitude Spectrum\", alpha=.2)\n",
    "ax71.set_ylabel(\"Full Trace Reconstruction\")\n",
    "ax71.legend()\n",
    "\n",
    "ax74 = plt.subplot2grid((5, 5), (4, 4), sharey=ax61)\n",
    "ax74.plot(frex_total,spec_total, label=\"Reconstruction\")\n",
    "ax74.plot(hann_frex_total,hann_spec_total, label=\"Reconstruction Hanning\")\n",
    "ax74.phase_spectrum(trace, label=\"True Phase Spectrum\", alpha=.2)\n",
    "\n",
    "\n",
    "plt.savefig(\"spectral.png\")\n",
    "\n",
    "plt.show()"
   ]
  },
  {
   "cell_type": "code",
   "metadata": {},
   "outputs": [],
   "source": []
  },
  {
   "cell_type": "code",
   "metadata": {},
   "outputs": [],
   "source": [
    "sp_left = np.fft.fft(half_trace_left)\n",
    "sp_midl = np.fft.fft(half_trace_midl)\n",
    "sp_midr = np.fft.fft(half_trace_midr)\n",
    "sp_right = np.fft.fft(half_trace_right)\n",
    "\n",
    "rec_spec = sp_right+sp_midl+sp_midr+sp_left"
   ]
  },
  {
   "cell_type": "code",
   "metadata": {},
   "outputs": [],
   "source": [
    "time_step = .004\n",
    "sp_rec = np.abs(rec_spec)\n",
    "freqs_rec = np.fft.fftfreq(sp_rec.size, d=time_step)\n",
    "idx_rec = np.argsort(freqs_rec)\n",
    "\n",
    "plt.figure(figsize=(20,10))\n",
    "plt.plot(freqs[idx][::4], sp[idx][::4], label=\"True Amplitude Spectrum Downsampled\")\n",
    "plt.plot(freqs_rec[idx_rec], (sp_rec[idx_rec]), label=\"Reconstruction\")\n",
    "plt.plot(freqs[idx], sp[idx], label=\"True Amplitude Spectrum\", alpha=.3)\n",
    "plt.legend()"
   ]
  },
  {
   "cell_type": "code",
   "metadata": {},
   "outputs": [],
   "source": [
    "plt.figure(figsize=(20,10))\n",
    "plt.phase_spectrum(trace, label=\"Full Trace\")\n",
    "plt.phase_spectrum(half_trace_left, label=\"Q1\")\n",
    "plt.phase_spectrum(half_trace_midl, label=\"Q2\")\n",
    "plt.phase_spectrum(half_trace_midr, label=\"Q3\")\n",
    "plt.phase_spectrum(half_trace_right, label=\"Q4\")\n",
    "plt.legend()\n",
    "plt.show()"
   ]
  },
  {
   "cell_type": "code",
   "metadata": {},
   "outputs": [],
   "source": []
  }
 ],
 "metadata": {
  "kernelspec": {
   "display_name": "Python [conda env:tensorflow]",
   "language": "python",
   "name": "conda-env-tensorflow-py"
  },
  "language_info": {
   "codemirror_mode": {
    "name": "ipython",
    "version": 3
   },
   "file_extension": ".py",
   "mimetype": "text/x-python",
   "name": "python",
   "nbconvert_exporter": "python",
   "pygments_lexer": "ipython3",
   "version": "3.6.6"
  }
 },
 "nbformat": 4,
 "nbformat_minor": 2
}